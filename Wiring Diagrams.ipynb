{
 "cells": [
  {
   "cell_type": "markdown",
   "id": "62baf9d0",
   "metadata": {},
   "source": [
    "### Wiring Diagrams"
   ]
  },
  {
   "cell_type": "markdown",
   "id": "2245da0f",
   "metadata": {},
   "source": [
    "#### Learning Intention\n",
    "- Develop wiring diagrams for a mechatronic system, considering data and power supply requirements"
   ]
  },
  {
   "cell_type": "markdown",
   "id": "89e05004",
   "metadata": {},
   "source": [
    "### Success Criteria\n",
    "1. I can create a wiring diagram that shows how components are connected.\n",
    "\n",
    "2. I can include both data and power connections in my diagram.\n",
    "\n",
    "3. I can explain why each connection is needed for the system to work."
   ]
  },
  {
   "cell_type": "markdown",
   "id": "779a79b4",
   "metadata": {},
   "source": [
    "#### Wiring Diagram 1\n",
    "![alt text](<Wiring Diagram 1.png>)"
   ]
  },
  {
   "cell_type": "markdown",
   "id": "462a70a7",
   "metadata": {},
   "source": [
    "#### Wiring Diagram 2\n",
    "![alt text](<Wiring Diagram 2.png>)"
   ]
  },
  {
   "cell_type": "markdown",
   "id": "663d446b",
   "metadata": {},
   "source": [
    "#### Wiring Diagram 3\n",
    "![alt text](<Wiring Diagram 3.png>)"
   ]
  },
  {
   "cell_type": "markdown",
   "id": "7533c1f0",
   "metadata": {},
   "source": [
    "#### Wiring Diagram 4\n",
    "![alt text](<Wiring Diagram 4.png>)"
   ]
  }
 ],
 "metadata": {
  "language_info": {
   "name": "python"
  }
 },
 "nbformat": 4,
 "nbformat_minor": 5
}
