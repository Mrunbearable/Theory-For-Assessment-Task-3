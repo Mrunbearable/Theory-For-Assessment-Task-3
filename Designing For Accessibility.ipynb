{
 "cells": [
  {
   "cell_type": "markdown",
   "id": "ac77a4e3",
   "metadata": {},
   "source": [
    "### Designing for Accessibility"
   ]
  },
  {
   "cell_type": "markdown",
   "id": "3f82a3cc",
   "metadata": {},
   "source": [
    "#### Learning Intentions\n",
    "- Determine specialist requirements that influence the design and functions of mechatronic systems designed for people with disability"
   ]
  },
  {
   "cell_type": "markdown",
   "id": "813b56be",
   "metadata": {},
   "source": [
    "#### Success Criteria\n",
    "\n",
    "1. I can identify the needs of users with a disability that affect system design.\n",
    "\n",
    "2. I can describe features that make mechatronic systems more accessible.\n",
    "\n",
    "3. I can explain how design choices support specific functional requirements."
   ]
  },
  {
   "cell_type": "markdown",
   "id": "9da4ffcb",
   "metadata": {},
   "source": [
    "#### See Think Wonder"
   ]
  },
  {
   "cell_type": "markdown",
   "id": "66795d6f",
   "metadata": {},
   "source": [
    "##### SEE"
   ]
  },
  {
   "cell_type": "markdown",
   "id": "7adf289e",
   "metadata": {},
   "source": [
    "What examples of inclusive or non-inclusive technology do you see around you today?\n",
    "List at least 3 examples (products, systems, environments, etc.):\n",
    "\n",
    "1. a see a wooden ramp allowing disabled indivduals or machines with wheel to easily access different levels\n",
    "\n",
    "2. i see a comupter and keyboard allowing mute or deaf people to express their words while doing other activities\n",
    "\n",
    "3. I see a 3d printer which allows the creation of items to support disabled people"
   ]
  },
  {
   "cell_type": "markdown",
   "id": "c3421c24",
   "metadata": {},
   "source": [
    "##### THINK"
   ]
  },
  {
   "cell_type": "markdown",
   "id": "467469fc",
   "metadata": {},
   "source": [
    "Imagine the year is 2100.\n",
    "Write 1–2 paragraphs for each scenario:"
   ]
  },
  {
   "cell_type": "markdown",
   "id": "c9426ea1",
   "metadata": {},
   "source": [
    "Scenario A – Imagine the world in 2100, where mechatronics and AI were designed with accessibility and inclusion as a core value.\n",
    "What does life look like? How do people with disability experience technology and society?"
   ]
  },
  {
   "cell_type": "markdown",
   "id": "44fcf394",
   "metadata": {},
   "source": [
    "The world is currently in 2100. Society has vigorously taken into consideration the implementation of Mechatro  mechatronics and AI to support accessibility and the disabled. People requiring more accessibility have substanitial rights and freedom of voice. Public environments are universally versatile to support needs of individuals. Each individual is reliant on a personalised AI companion, with countless preferences. The transport industry employs successfuly autonomous vehicles and drones providing barrier-free connection. Wheelchair users, blind people, and indivduals with cognitive differences can travel independently without worrying about navigation or boarding difficulties. Most interfaces are voice or gesture activated, with adapatble hative feedback ensuring every can use the technology. The Healthcare sector observes significant growth with wearable and implanted mechatronic  and AI systems deployed to continuously monitor health, predict risks, and automatically connect individuals with friend and family in the case of an Emergency. Technolgy is implemented to accomodate the education and employment periods of disabled people. AI and Mechtronics and are used to support and identify secures skills of these indivduals so sucessfully employ them, so they can thrive in creative, proffesional and physical carreers. The worlds become more inclusive and experiences significant growth, acknowledging cultural, physical and mental disabilities as a foundation of improvement"
   ]
  },
  {
   "cell_type": "markdown",
   "id": "51e20731",
   "metadata": {},
   "source": [
    "\n",
    "Scenario B – Imagine the world in 2100, where technology was designed without consideration for accessibility or disability.\n",
    "What challenges might exist? Who is excluded?"
   ]
  },
  {
   "cell_type": "markdown",
   "id": "eb701140",
   "metadata": {},
   "source": [
    "The world is currently in 2100. The World believes that the use of advanced technology in consideration for accessibility or disability would destroy the economy. With the government creating a judgement, the world is focusing on optimising speed, efficieny and profit. Their has been successful development in the transport and manufacturing industry. Factories are fully autonomous with minimal survision and public transport is designed to maximum productivity and accuracy. These industry haven't implement any form of apdative communication, tactile interfaces or accessibility options. Individual who have loss the capability to walk on a leg, are forced to roam the streets to get to their destination. While the heathcare factors grows and employment and education gap exoands, there is a visable inequality for groups of individuals with disabilities. The application of advancement AI and mechtronics, requires high maitenance and cost, meaning costs for healthcare become expensive for the people who can't afford it. Education uses autonmous labour, creating communication issues between deaf, mute and blind people and other individuals with brain defects, making it harder for employment. The individuals become the subhumans of society, with inequality with the healthy and the group requiring accessbility forced to live in different environment, one in a thriving, development city and one in a rotting environment"
   ]
  },
  {
   "cell_type": "markdown",
   "id": "0da8f4ec",
   "metadata": {},
   "source": [
    "##### WONDER"
   ]
  },
  {
   "cell_type": "markdown",
   "id": "47468533",
   "metadata": {},
   "source": [
    "What questions do you have now about how mechatronics can shape a more inclusive future?\n",
    "\n",
    "1.  What is the application of mechatronics most applied into and how much in costs have they used\n",
    "\n",
    "2. In the near future, What will the mechatronics future still be a thing and if not what will replace mechatronics\n",
    "\n",
    "3. What is the most sucessful mechtronic deployed into our modern world and how long has this robot been deployed for"
   ]
  },
  {
   "cell_type": "markdown",
   "id": "4591baa2",
   "metadata": {},
   "source": [
    "#### Essay"
   ]
  },
  {
   "cell_type": "markdown",
   "id": "c57bd59f",
   "metadata": {},
   "source": [
    "Topic Question: Is it better to design technology that changes people to fit the world, or technology that changes the world to include everyone?"
   ]
  },
  {
   "cell_type": "markdown",
   "id": "ad658cde",
   "metadata": {},
   "source": [
    "### Claim\n",
    "I Strongly believe that it is better to create and design technology that changes the world to become inclusive. Our modern world should focus on establishing inclusivity and providing equal opportunities for inviduals. The application of AI and Mechantronic can further support the manafacturing of effiecient, accurate and reliable advanced products to empower people requring accessibility or disabled individuals"
   ]
  },
  {
   "cell_type": "markdown",
   "id": "926dfd11",
   "metadata": {},
   "source": [
    "### Support \n",
    "Give at least two reasons, examples, or real-world evidence to support your claim."
   ]
  },
  {
   "cell_type": "markdown",
   "id": "ecf91f96",
   "metadata": {},
   "source": [
    "As our world undergoes massive growth and development it is essential to enhance inclusivity and accessbility for people with disability, impairments and mental issues. Their are various fields and careers employed to observe and research to improve experiences for the groups demanding for accesibility options. Technology that promotes inclusitivity allows inviduals to play a major part in our society, supporting equality between our community and living with greater independence. A prothestic is an artifical limb design to replace and perform as the original limbs functionality. These prothestic have been engineered to accurately mimic and improve the quality of lives. They encourage indpendence and mobility, allowing easier access to daily task. For exmaple, a athelete who lost a limb may have loss many assets. If they by a prothestic, they may be able to pursure their goals again. Hearing Aids are small electronic gadgets worn within the ear, to amplify sounds, allowing individuals to interact and communicate with the people and things around them. The application of hearing aids give indivudals with multiple oppurtunites and lets them interact with their young ones. AI can be implement into these machines allowing the user to send neural signals from the brain to the machine, allowing full control over the gadget. They can also mointor health and vitals ensuring that the technology provided isn't harmful."
   ]
  },
  {
   "cell_type": "markdown",
   "id": "924c53bb",
   "metadata": {},
   "source": [
    "#### Question\n",
    "What tensions, doubts, or complexities come with your stance?\n",
    "\n"
   ]
  },
  {
   "cell_type": "markdown",
   "id": "e6ef4b2b",
   "metadata": {},
   "source": [
    "When our world sees a mssive growth and development in the use of technologies like AI and mechatronics, it is essential to consider the risk and issues these devices may pose to individuals, society and environment. The application of AI and mechatronics in the human body has to be estabilish, where it improve and support the individual instead of inflicting harm and affecting wellbeing. For example, If a new upcoming prothestic hasn't been tested but publish to the environment. IFf their is a defect or error in the system, it could present a major risk to the indivudal and the manufacturer. These applications have to be engineered perfect and tested throughly to ensure it serves a great purpose in society. When construct and developing these applications, thorough consideration has to be taken to ensure there is minimal infliction to the environment and it inhabitants. For example, if a spefic product requires wood from a forest, it is important to acknowledge the where the wood is coming from, which animals used the wood and what role does the wood serve to the forest. These application have to be effiecient and reliable while also maintain a sustainable eco-friendly approach"
   ]
  }
 ],
 "metadata": {
  "language_info": {
   "name": "python"
  }
 },
 "nbformat": 4,
 "nbformat_minor": 5
}
