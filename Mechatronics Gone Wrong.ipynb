{
 "cells": [
  {
   "attachments": {},
   "cell_type": "markdown",
   "metadata": {},
   "source": [
    "| Headline | See | Think | Wonder |\n",
    "| --- | --- | --- | --- | \n",
    "| A Self-Driving Car Killed A Pedestrian | An Individual has been deceased because of a self-driving car | The software deployed in the self-driving car had current flaws, had been breached or human error| Why does the car have beef with the pedestrain? Did the owner of the self driving car face legal issues?|\n",
    "|A GPS Device Caused a Man to Drive on a Closed Bridge| Man either died or got injured because he drove of a brdige| The software on the device hasn't been frequently updated, human might have been on a substance| What precauations did the GPS device not take for the indvidual to drive of a Bridge? Did the man survive after falling? |\n",
    "|A Robot Unleashed Bear Repellant Upon Amazon Factory Workers| Crazy robots tries to assert dominance | An errors in the robots software, environmental factors | How did the stop the robot? Did any individual get injured |\n"
   ]
  }
 ],
 "metadata": {
  "language_info": {
   "name": "python"
  },
  "orig_nbformat": 4
 },
 "nbformat": 4,
 "nbformat_minor": 2
}
