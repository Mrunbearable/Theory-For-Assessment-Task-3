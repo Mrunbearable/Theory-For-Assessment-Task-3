{
 "cells": [
  {
   "cell_type": "markdown",
   "id": "0ecf27ff",
   "metadata": {},
   "source": [
    "### Mechatronic Components"
   ]
  },
  {
   "cell_type": "markdown",
   "id": "64b52de1",
   "metadata": {},
   "source": [
    "#### Learning Intention\n",
    "- Identify and describe a range of sensors, actuators and end effectors/manipulators within existing mechatronic systems including:\n",
    "\n",
    "1. motion sensors\n",
    "\n",
    "2. light level sensors\n",
    "\n",
    "3. hydraulic actuators\n",
    "\n",
    "4. robotic grippers"
   ]
  },
  {
   "cell_type": "markdown",
   "id": "871c0811",
   "metadata": {},
   "source": [
    "#### Success Criteria\n",
    "1. I can identify different types of sensors, actuators, and end effectors in mechatronic systems.\n",
    "\n",
    "2. I can describe how motion and light sensors are used in real systems.\n",
    "\n",
    "3. I can explain how hydraulic actuators and robotic grippers work and what they do."
   ]
  },
  {
   "cell_type": "markdown",
   "id": "fa231443",
   "metadata": {},
   "source": [
    "1. Explain what a ultrasonic motion sensor does, including an example of how it could be used."
   ]
  },
  {
   "cell_type": "markdown",
   "id": "179eb949",
   "metadata": {},
   "source": [
    "Mechtronic sensors are sophisticated systems developed and design to convert physical parameters into indicators capable of being measured and processed, intergrated with fundementals of software, electrical and mechanical engineering. Motion sensors have the capability to identify movement in countless environments while manfuctured in different applications. Motion sensors generally operate through infrared, ultrasonic or microwave technologies. Arduino ultrasonic sensors create pulses of ultrasonic sound waves, at a frequency beyond the human hearing, measure the time the echo took to return, calculating the distance with immense accuracy. The Arduino Ultransonic sensor is productive in obstacle detection, avoidance systems and parking lots."
   ]
  },
  {
   "cell_type": "markdown",
   "id": "4f2c642c",
   "metadata": {},
   "source": [
    "2. Explain how a photoresistor works and why it is useful in Arduino projects."
   ]
  },
  {
   "cell_type": "markdown",
   "id": "f04dc6a8",
   "metadata": {},
   "source": [
    "In contrary to Motion sensors, light sensors are pieces of technology that observe and measure the intensity of light in an environment. A photoresistor is a light dependent resistor implemented in arduino as they are simple and easy to read resistance values. When the resistance of the photoresistor decreases the light increase, proving its ability to identify changes in the environment. Photoresistors can be used to create autonomous brightness application or light-sensitive alarms"
   ]
  },
  {
   "cell_type": "markdown",
   "id": "82997465",
   "metadata": {},
   "source": [
    "3. Describe the purpose of an actuator in a system."
   ]
  },
  {
   "cell_type": "markdown",
   "id": "1609a12e",
   "metadata": {},
   "source": [
    "Actuators are highly effecient machines accountable for moving and controlling systems. Actuators convert energy like electrical, hydraulic and pnuematic into mechanical motion for automation in various industries. With the require force and control, actuators are exectuted to improve precision, effcieny and automatition in modern technological systems."
   ]
  },
  {
   "cell_type": "markdown",
   "id": "0081a708",
   "metadata": {},
   "source": [
    "4. Explain how actuators convert different forms of energy into mechanical motion."
   ]
  },
  {
   "cell_type": "markdown",
   "id": "9c276bce",
   "metadata": {},
   "source": [
    "Different forms of energy are applied to successfully create mechanical motion. Electical acutators use electrical energy in position where intensive amounts of control is necessary. Their precision, convienient installation and low maintenance make them perfect in application like robotics and autonomous systems. Pneumatics acutuators use compressed air where prompt transition is required. Their simplicity, speed and reliabilty makes them perfect in industries with food, beverages and medical products. Hydraulic Actuators use liquid to shift a motor or piston, creating mechanical output. Their ability to produce high force capabilities and precise control make them perfect in challenging environments"
   ]
  },
  {
   "cell_type": "markdown",
   "id": "f8d6441c",
   "metadata": {},
   "source": [
    "5. Describe what an end-effector is and provide an example of a situation where one might be used."
   ]
  },
  {
   "cell_type": "markdown",
   "id": "0bcb2413",
   "metadata": {},
   "source": [
    "End effectors is the interaction of the robot and the environment in robotic systems. End effectors are mechanical technologies designed for specfic operations. Their are many types of end effectors, each influenced by the requirements of the applications and the assigned task. The versatility and adaptability make them highly effective and percise in automation. For example, robot grippers are implemented in assembly lines, vary in design based on their purpose. The end effector with the vaccuum is used for picking up and transfering components while the end effector with the saw is used for cutting items. The end effector in the production industry reduces the demand for manual labour while enable accurate and repetitive operations.\n"
   ]
  },
  {
   "cell_type": "markdown",
   "id": "32bf4517",
   "metadata": {},
   "source": [
    "6. Explain how the End-of-Arm Tool (EOAT) functions and its importance in automated systems.\n",
    "\n"
   ]
  },
  {
   "cell_type": "markdown",
   "id": "8486ae6a",
   "metadata": {},
   "source": [
    "The end of arm tool is manufactured to a faceplate or robot. End of arm tools can be powered through servo motors and electical energy, pnuematic devices and energy and hyrdraulic technologies and energy. The EOAT is designed so the robot doesn't smash pull or break the cables. The EOAT has the capability to be altered, depending on the circumstances. The importance of these machines in automated systems is to reduce manual labour while maintaing precise, effiecient and accurate operations"
   ]
  }
 ],
 "metadata": {
  "language_info": {
   "name": "python"
  }
 },
 "nbformat": 4,
 "nbformat_minor": 5
}
