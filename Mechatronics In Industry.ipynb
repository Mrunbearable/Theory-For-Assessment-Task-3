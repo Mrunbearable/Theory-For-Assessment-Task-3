{
 "cells": [
  {
   "cell_type": "markdown",
   "id": "7648a1de",
   "metadata": {},
   "source": [
    "### Mechatronics In Industry"
   ]
  },
  {
   "cell_type": "markdown",
   "id": "c19c3cd6",
   "metadata": {},
   "source": [
    "#### Learning Intention\n",
    "- Outline applications of mechatronic systems in a variety of specialised fields"
   ]
  },
  {
   "cell_type": "markdown",
   "id": "43d1cb88",
   "metadata": {},
   "source": [
    "#### Success Criteria\n",
    "1. I can explain what mechatronics is in simple terms.\n",
    "\n",
    "2. I can name at least two careers that use mechatronic systems.\n",
    "\n",
    "3. I can give examples of how mechatronic systems are used in different fields."
   ]
  },
  {
   "cell_type": "markdown",
   "id": "7be6d50b",
   "metadata": {},
   "source": [
    "1. Define mechatronics in your own words."
   ]
  },
  {
   "cell_type": "markdown",
   "id": "b7799c99",
   "metadata": {},
   "source": [
    "Mechatronics is the development and ultisation of mechanisms and technologies to fabricate commodities. Mechatronics is the integration of mechanical engineering and electrical engineering for creating application of complex decision making to physical systems or enhanced design and manfaucturing of products. Mechatronics comprises elements of physical systems (sensors, actuators) and logical systems (software, data aquisation). Different Engineers apply mechatronics to address modern issues that intertwine with electrical and mechatronical elements."
   ]
  },
  {
   "cell_type": "markdown",
   "id": "30636066",
   "metadata": {},
   "source": [
    "2. Explain the difference between robotics and mechatronics."
   ]
  },
  {
   "cell_type": "markdown",
   "id": "72989c6c",
   "metadata": {},
   "source": [
    "Robotic and mechatronics systems are equally applied in the field of Engineering, each enabled with fundemental discrepancies. Mechatronics employs electronic and software engineering to develop device capable of autonomous control and Interaction while Robotic enforces electronic and software engineering to construct and control robots with the capability to interact with its environment. Both require a standard engineering maths, physics and programming. Mechatronic degrees incoporate elements from mechanical engineering like modelling and material analysis, automation instrumation and control. In Contrast, robotic degrees embrace advanced software programming and electronics though structures and algorithms. Mechtronics concentrates on the implementation of oppurunties while robotics focuses on the logistics"
   ]
  },
  {
   "cell_type": "markdown",
   "id": "09d6665a",
   "metadata": {},
   "source": [
    "3. Identify at least three careers someone could pursue with a mechatronics engineering degree."
   ]
  },
  {
   "cell_type": "markdown",
   "id": "b4d5d871",
   "metadata": {},
   "source": [
    "The mechatronics engineerig degree provide individuals with a plethora of careers to provide benefit to our economy allowing society to progress. Robotic engineers emphasies the development, desigining and construction of robots to make tasks easier, safer and faster. These engineers creates autonomous or semi‑autonomous machines combining mechanical structure, electronic control, and software intelligence like production lines and service robots. Medical engineers develop and create life-saving technological adavancements to improve healthcare, find cures for disease and bacteria and save your life with technologies like surgical robots and prosthetics. Aerospace mechatronics engineers design and ultise control systems, robotics, and autonomous navigationfor aircraft drone, spacecraft and aerospace technologies to improve and observe in space exploration. These careers within the mechatronics within the mechatronics industry provide endless oppurtunites to establish a lasting impact for our modern world"
   ]
  },
  {
   "cell_type": "markdown",
   "id": "1e9d4ecd",
   "metadata": {},
   "source": [
    "4. You've been provided examples, now go find your own. \n",
    "Go find three articles / videos from trustworthy sources which show an example of mechatronics in industry. Provide the links."
   ]
  },
  {
   "cell_type": "markdown",
   "id": "99ff23f2",
   "metadata": {},
   "source": [
    "- https://www.wired.com/2011/09/autonomous-tractor-is-outstanding-in-its-field/\n",
    "Autonomous Tractor\n",
    "- https://www.mdpi.com/2071-1050/16/19/8504\n",
    "Smart plastic injection moulding machine\n",
    "- https://arxiv.org/abs/2503.05798\n",
    "Autonomous Hot-Rolling"
   ]
  }
 ],
 "metadata": {
  "language_info": {
   "name": "python"
  }
 },
 "nbformat": 4,
 "nbformat_minor": 5
}
