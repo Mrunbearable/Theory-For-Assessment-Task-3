{
 "cells": [
  {
   "cell_type": "markdown",
   "id": "2626af04",
   "metadata": {},
   "source": [
    "### Understanding the Hardware"
   ]
  },
  {
   "cell_type": "markdown",
   "id": "ad2b7ff4",
   "metadata": {},
   "source": [
    "#### Learning Intention\n",
    "- Outline applications of mechatronic systems in a variety of specialised fields"
   ]
  },
  {
   "cell_type": "markdown",
   "id": "54d7e4c6",
   "metadata": {},
   "source": [
    "#### Success criteria\n",
    "\n",
    "1. I can explain what mechatronics is in simple terms.\n",
    "\n",
    "2. 3I can name at least two careers that use mechatronic systems.\n",
    "\n",
    "3. I can give examples of how mechatronic systems are used in different fields."
   ]
  },
  {
   "cell_type": "markdown",
   "id": "b2e05e81",
   "metadata": {},
   "source": [
    "1. Compare and contrast the way in which microcontrollers and CPUs run programs."
   ]
  },
  {
   "cell_type": "markdown",
   "id": "bc20ca18",
   "metadata": {},
   "source": [
    "Microcontroller and CPU are electronic systems that are applied with similar and different purposes in a computer. The CPU is the brain of the computer, enabled to handle the proccessing capablities for the computer indepedently. The microcontroller is a compact, cost-effect9ve intergrated circuit, embedded with a specific operation established in applications that require precise control of mechanical processes. The CPU is intergrated into the micrcontroller with the memory and peripherals, while operating as the larger system with more control and efficiency. The CPU is generally position in personal computers while the microcontroller is in an embedded system"
   ]
  },
  {
   "cell_type": "markdown",
   "id": "c9eae271",
   "metadata": {},
   "source": [
    "2. Explain how microcontrollers process instructions using opcodes. Provide an example.\n",
    "\n"
   ]
  },
  {
   "cell_type": "markdown",
   "id": "30d3477d",
   "metadata": {},
   "source": [
    "To Understand the solicited command from the user, microcontrollers proccess instructions through opcodes. Opcodes are binary representation of each instruction, which are obtained from the memory and delivered to the decode unit. The decode unit translates the opcode into control indicators, enabling the microcontroller to understand and interpret the command. The control indicators are transported to the arithemtic logic unit for calculations, inputs and outputs, estabilishing, executing and managing tasks in a effectivent and productive manner. For example, An arduino uses an RISC permitting efficient execution through fewer cycles and responsive applications."
   ]
  },
  {
   "cell_type": "markdown",
   "id": "5e10f695",
   "metadata": {},
   "source": [
    "3. Explain how registers help store and move data during program execution.\n",
    "\n"
   ]
  },
  {
   "cell_type": "markdown",
   "id": "8cc7c281",
   "metadata": {},
   "source": [
    "Address and Data registers are essential elemenents, governing different functions. Registers are implement to productively access and temporary manipulate data by maintaing instructions or operands in a CPU or microcontroller. The CPU obtains the instructions from the memory to decode and execute with registers providing successful permission. When permission is granted, Address registers stores the location of the data in the memory while the data register retain the data waiting to be processed. The application of registers in CPU provides accelerated execution, minimised data retrival times and overall processing workflow through the memory, CPU and other components"
   ]
  }
 ],
 "metadata": {
  "language_info": {
   "name": "python"
  }
 },
 "nbformat": 4,
 "nbformat_minor": 5
}
